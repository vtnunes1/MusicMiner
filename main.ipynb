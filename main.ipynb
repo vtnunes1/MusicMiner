{
 "cells": [
  {
   "cell_type": "markdown",
   "id": "7b236c56-c670-4bb9-a8ab-9b88b18deffc",
   "metadata": {},
   "source": [
    "# CONFIGURAÇÕES #"
   ]
  },
  {
   "cell_type": "code",
   "execution_count": null,
   "id": "2243eae5-85bc-4952-9294-eabaf8eeeeeb",
   "metadata": {},
   "outputs": [],
   "source": [
    "client_id = \"\" # Spotify ClientId\n",
    "client_secret = \"\" # Spotify ClientSrecret\n",
    "vagalume_key = \"\" # Vagalume Key\n",
    "url = \"\" # Spotify URL"
   ]
  },
  {
   "cell_type": "markdown",
   "id": "65275703-d684-4515-a650-db54ea31ae63",
   "metadata": {},
   "source": [
    "# IMPORTACOES #"
   ]
  },
  {
   "cell_type": "code",
   "execution_count": null,
   "id": "7cfb8f8f-9639-4170-99c1-d8063acdf393",
   "metadata": {
    "scrolled": true
   },
   "outputs": [],
   "source": [
    "from SpotifyAPI import SpotifyAPI # Importa classe SpotifyAPI\n",
    "from VagalumeAPI import VagalumeAPI # Importa classe VagalumeAPI\n",
    "from Playlist import Playlist # Importa classe Playlist\n",
    "from Track import Track # Importa classe Track\n",
    "from Analyse import Analyse # Importa classe Analyse"
   ]
  },
  {
   "cell_type": "code",
   "execution_count": null,
   "id": "0062b7f2-8a11-4fba-b397-a2a4cb8d1da4",
   "metadata": {},
   "outputs": [],
   "source": [
    "spotify = SpotifyAPI(client_id, client_secret) # Cria instancia da classe SpotifyAPI\n",
    "vagalume = VagalumeAPI(vagalume_key) # Cria instancia da classe VagalumeAPI\n",
    "playlist = Playlist(spotify, vagalume) # Cria instancia da classe Playlist\n",
    "track = Track(spotify, vagalume) # Cria instancia da classe Playlist\n",
    "analyse = Analyse() # Cria instancia da classe Analyse"
   ]
  },
  {
   "cell_type": "markdown",
   "id": "0d1e70dd-637f-41a3-815f-d1fc119bbbe3",
   "metadata": {},
   "source": [
    "# PLAYLIST REQUEST #"
   ]
  },
  {
   "cell_type": "code",
   "execution_count": null,
   "id": "f9d934c3-0e23-44a7-a32d-b24b898d305a",
   "metadata": {},
   "outputs": [],
   "source": [
    "playlist.searchSpotifyPlaylist(url)\n",
    "playlist.createMysqlSyntax()\n",
    "playlist.createSqlFile()\n",
    "playlist.createCsvFile()"
   ]
  },
  {
   "cell_type": "markdown",
   "id": "d702b6da-b312-4c96-a92f-b2fa7a6289b6",
   "metadata": {},
   "source": [
    "# TRACK REQUEST #"
   ]
  },
  {
   "cell_type": "code",
   "execution_count": null,
   "id": "ac619575-1f96-41e3-bc34-d0ace7008694",
   "metadata": {},
   "outputs": [],
   "source": [
    "track.searchSpotifyTrack(url)\n",
    "track.createMysqlSyntax()\n",
    "track.createSqlFile()\n",
    "track.createCsvFile()"
   ]
  },
  {
   "cell_type": "markdown",
   "id": "8d8d6c5b-ecd4-49bf-8c4c-e962850bfa9c",
   "metadata": {},
   "source": [
    "# ANALYSE #"
   ]
  },
  {
   "cell_type": "code",
   "execution_count": null,
   "id": "7469ee7e-9c6f-4c7a-b33e-a0868d45d217",
   "metadata": {},
   "outputs": [],
   "source": [
    "analyse.analyzeDataCsv('data3.csv', 'data3')\n",
    "analyse.displayDataStats('data3')"
   ]
  },
  {
   "cell_type": "code",
   "execution_count": null,
   "id": "6538185c-73fe-4c9d-8a13-6674b7e50912",
   "metadata": {},
   "outputs": [],
   "source": [
    "analyse.analyzeDataCsv('data3.csv', 'data3')\n",
    "analyse.generateDataGraphs('data3')"
   ]
  },
  {
   "cell_type": "code",
   "execution_count": null,
   "id": "16116151-600f-409d-89d3-3be940a37ee2",
   "metadata": {},
   "outputs": [],
   "source": [
    "analyse.analyzeDataCsv('data3.csv', 'data3')\n",
    "analyse.generateBoxPlot('`popularity`', 'data3')"
   ]
  }
 ],
 "metadata": {
  "kernelspec": {
   "display_name": "Python 3 (ipykernel)",
   "language": "python",
   "name": "python3"
  },
  "language_info": {
   "codemirror_mode": {
    "name": "ipython",
    "version": 3
   },
   "file_extension": ".py",
   "mimetype": "text/x-python",
   "name": "python",
   "nbconvert_exporter": "python",
   "pygments_lexer": "ipython3",
   "version": "3.11.6"
  }
 },
 "nbformat": 4,
 "nbformat_minor": 5
}
